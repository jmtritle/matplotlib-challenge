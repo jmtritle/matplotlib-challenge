{
 "cells": [
  {
   "cell_type": "markdown",
   "metadata": {},
   "source": [
    "Observations and Insights\n",
    "------"
   ]
  },
  {
   "cell_type": "markdown",
   "metadata": {},
   "source": [
    "1. Capomulin had the highest number of datapoints (230), followed closely by Ramicane (228), while Propriva had the lowest (161).\n",
    "2. \n",
    "3. "
   ]
  },
  {
   "cell_type": "markdown",
   "metadata": {},
   "source": [
    "## Dependencies and starter code"
   ]
  },
  {
   "cell_type": "code",
   "execution_count": 23,
   "metadata": {},
   "outputs": [
    {
     "data": {
      "text/html": [
       "<div>\n",
       "<style scoped>\n",
       "    .dataframe tbody tr th:only-of-type {\n",
       "        vertical-align: middle;\n",
       "    }\n",
       "\n",
       "    .dataframe tbody tr th {\n",
       "        vertical-align: top;\n",
       "    }\n",
       "\n",
       "    .dataframe thead th {\n",
       "        text-align: right;\n",
       "    }\n",
       "</style>\n",
       "<table border=\"1\" class=\"dataframe\">\n",
       "  <thead>\n",
       "    <tr style=\"text-align: right;\">\n",
       "      <th></th>\n",
       "      <th>Mouse ID</th>\n",
       "      <th>Drug Regimen</th>\n",
       "      <th>Sex</th>\n",
       "      <th>Age_months</th>\n",
       "      <th>Weight (g)</th>\n",
       "      <th>Timepoint</th>\n",
       "      <th>Tumor Volume (mm3)</th>\n",
       "      <th>Metastatic Sites</th>\n",
       "    </tr>\n",
       "  </thead>\n",
       "  <tbody>\n",
       "    <tr>\n",
       "      <th>0</th>\n",
       "      <td>k403</td>\n",
       "      <td>Ramicane</td>\n",
       "      <td>Male</td>\n",
       "      <td>21</td>\n",
       "      <td>16</td>\n",
       "      <td>0</td>\n",
       "      <td>45.000000</td>\n",
       "      <td>0</td>\n",
       "    </tr>\n",
       "    <tr>\n",
       "      <th>1</th>\n",
       "      <td>k403</td>\n",
       "      <td>Ramicane</td>\n",
       "      <td>Male</td>\n",
       "      <td>21</td>\n",
       "      <td>16</td>\n",
       "      <td>5</td>\n",
       "      <td>38.825898</td>\n",
       "      <td>0</td>\n",
       "    </tr>\n",
       "    <tr>\n",
       "      <th>2</th>\n",
       "      <td>k403</td>\n",
       "      <td>Ramicane</td>\n",
       "      <td>Male</td>\n",
       "      <td>21</td>\n",
       "      <td>16</td>\n",
       "      <td>10</td>\n",
       "      <td>35.014271</td>\n",
       "      <td>1</td>\n",
       "    </tr>\n",
       "    <tr>\n",
       "      <th>3</th>\n",
       "      <td>k403</td>\n",
       "      <td>Ramicane</td>\n",
       "      <td>Male</td>\n",
       "      <td>21</td>\n",
       "      <td>16</td>\n",
       "      <td>15</td>\n",
       "      <td>34.223992</td>\n",
       "      <td>1</td>\n",
       "    </tr>\n",
       "    <tr>\n",
       "      <th>4</th>\n",
       "      <td>k403</td>\n",
       "      <td>Ramicane</td>\n",
       "      <td>Male</td>\n",
       "      <td>21</td>\n",
       "      <td>16</td>\n",
       "      <td>20</td>\n",
       "      <td>32.997729</td>\n",
       "      <td>1</td>\n",
       "    </tr>\n",
       "  </tbody>\n",
       "</table>\n",
       "</div>"
      ],
      "text/plain": [
       "  Mouse ID Drug Regimen   Sex  Age_months  Weight (g)  Timepoint  \\\n",
       "0     k403     Ramicane  Male          21          16          0   \n",
       "1     k403     Ramicane  Male          21          16          5   \n",
       "2     k403     Ramicane  Male          21          16         10   \n",
       "3     k403     Ramicane  Male          21          16         15   \n",
       "4     k403     Ramicane  Male          21          16         20   \n",
       "\n",
       "   Tumor Volume (mm3)  Metastatic Sites  \n",
       "0           45.000000                 0  \n",
       "1           38.825898                 0  \n",
       "2           35.014271                 1  \n",
       "3           34.223992                 1  \n",
       "4           32.997729                 1  "
      ]
     },
     "execution_count": 23,
     "metadata": {},
     "output_type": "execute_result"
    }
   ],
   "source": [
    "# Dependencies and Setup\n",
    "import matplotlib.pyplot as plt\n",
    "import pandas as pd\n",
    "import scipy.stats as st\n",
    "import numpy as np\n",
    "\n",
    "# Study data files\n",
    "mouse_metadata = \"data/Mouse_metadata.csv\"\n",
    "study_results = \"data/Study_results.csv\"\n",
    "\n",
    "# Read the mouse data and the study results\n",
    "mouse_metadata = pd.read_csv(mouse_metadata)\n",
    "study_results = pd.read_csv(study_results)\n",
    "\n",
    "# Combine the data into a single dataset\n",
    "mouse_data = mouse_metadata.merge(study_results, on = \"Mouse ID\", how = \"outer\")\n",
    "mouse_data.head()"
   ]
  },
  {
   "cell_type": "markdown",
   "metadata": {},
   "source": [
    "## Summary statistics"
   ]
  },
  {
   "cell_type": "code",
   "execution_count": 24,
   "metadata": {
    "scrolled": true
   },
   "outputs": [
    {
     "data": {
      "text/html": [
       "<div>\n",
       "<style scoped>\n",
       "    .dataframe tbody tr th:only-of-type {\n",
       "        vertical-align: middle;\n",
       "    }\n",
       "\n",
       "    .dataframe tbody tr th {\n",
       "        vertical-align: top;\n",
       "    }\n",
       "\n",
       "    .dataframe thead th {\n",
       "        text-align: right;\n",
       "    }\n",
       "</style>\n",
       "<table border=\"1\" class=\"dataframe\">\n",
       "  <thead>\n",
       "    <tr style=\"text-align: right;\">\n",
       "      <th></th>\n",
       "      <th>Mean</th>\n",
       "      <th>Median</th>\n",
       "      <th>Variance</th>\n",
       "      <th>StDev</th>\n",
       "      <th>SEM</th>\n",
       "    </tr>\n",
       "    <tr>\n",
       "      <th>Drug Regimen</th>\n",
       "      <th></th>\n",
       "      <th></th>\n",
       "      <th></th>\n",
       "      <th></th>\n",
       "      <th></th>\n",
       "    </tr>\n",
       "  </thead>\n",
       "  <tbody>\n",
       "    <tr>\n",
       "      <th>Capomulin</th>\n",
       "      <td>40.675741</td>\n",
       "      <td>41.557809</td>\n",
       "      <td>24.947764</td>\n",
       "      <td>4.994774</td>\n",
       "      <td>0.329346</td>\n",
       "    </tr>\n",
       "    <tr>\n",
       "      <th>Ceftamin</th>\n",
       "      <td>52.591172</td>\n",
       "      <td>51.776157</td>\n",
       "      <td>39.290177</td>\n",
       "      <td>6.268188</td>\n",
       "      <td>0.469821</td>\n",
       "    </tr>\n",
       "    <tr>\n",
       "      <th>Infubinol</th>\n",
       "      <td>52.884795</td>\n",
       "      <td>51.820584</td>\n",
       "      <td>43.128684</td>\n",
       "      <td>6.567243</td>\n",
       "      <td>0.492236</td>\n",
       "    </tr>\n",
       "    <tr>\n",
       "      <th>Ketapril</th>\n",
       "      <td>55.235638</td>\n",
       "      <td>53.698743</td>\n",
       "      <td>68.553577</td>\n",
       "      <td>8.279709</td>\n",
       "      <td>0.603860</td>\n",
       "    </tr>\n",
       "    <tr>\n",
       "      <th>Naftisol</th>\n",
       "      <td>54.331565</td>\n",
       "      <td>52.509285</td>\n",
       "      <td>66.173479</td>\n",
       "      <td>8.134708</td>\n",
       "      <td>0.596466</td>\n",
       "    </tr>\n",
       "    <tr>\n",
       "      <th>Placebo</th>\n",
       "      <td>54.033581</td>\n",
       "      <td>52.288934</td>\n",
       "      <td>61.168083</td>\n",
       "      <td>7.821003</td>\n",
       "      <td>0.581331</td>\n",
       "    </tr>\n",
       "    <tr>\n",
       "      <th>Propriva</th>\n",
       "      <td>52.322552</td>\n",
       "      <td>50.854632</td>\n",
       "      <td>42.351070</td>\n",
       "      <td>6.507770</td>\n",
       "      <td>0.512884</td>\n",
       "    </tr>\n",
       "    <tr>\n",
       "      <th>Ramicane</th>\n",
       "      <td>40.216745</td>\n",
       "      <td>40.673236</td>\n",
       "      <td>23.486704</td>\n",
       "      <td>4.846308</td>\n",
       "      <td>0.320955</td>\n",
       "    </tr>\n",
       "    <tr>\n",
       "      <th>Stelasyn</th>\n",
       "      <td>54.233149</td>\n",
       "      <td>52.431737</td>\n",
       "      <td>59.450562</td>\n",
       "      <td>7.710419</td>\n",
       "      <td>0.573111</td>\n",
       "    </tr>\n",
       "    <tr>\n",
       "      <th>Zoniferol</th>\n",
       "      <td>53.236507</td>\n",
       "      <td>51.818479</td>\n",
       "      <td>48.533355</td>\n",
       "      <td>6.966589</td>\n",
       "      <td>0.516398</td>\n",
       "    </tr>\n",
       "  </tbody>\n",
       "</table>\n",
       "</div>"
      ],
      "text/plain": [
       "                   Mean     Median   Variance     StDev       SEM\n",
       "Drug Regimen                                                     \n",
       "Capomulin     40.675741  41.557809  24.947764  4.994774  0.329346\n",
       "Ceftamin      52.591172  51.776157  39.290177  6.268188  0.469821\n",
       "Infubinol     52.884795  51.820584  43.128684  6.567243  0.492236\n",
       "Ketapril      55.235638  53.698743  68.553577  8.279709  0.603860\n",
       "Naftisol      54.331565  52.509285  66.173479  8.134708  0.596466\n",
       "Placebo       54.033581  52.288934  61.168083  7.821003  0.581331\n",
       "Propriva      52.322552  50.854632  42.351070  6.507770  0.512884\n",
       "Ramicane      40.216745  40.673236  23.486704  4.846308  0.320955\n",
       "Stelasyn      54.233149  52.431737  59.450562  7.710419  0.573111\n",
       "Zoniferol     53.236507  51.818479  48.533355  6.966589  0.516398"
      ]
     },
     "execution_count": 24,
     "metadata": {},
     "output_type": "execute_result"
    }
   ],
   "source": [
    "# Generate a summary statistics table of mean, median, variance, standard deviation, and SEM of the tumor volume for each regimen\n",
    "# Used all tumor volumes, across all time points, to calculate for each drug\n",
    "drug_groups = mouse_data.groupby(['Drug Regimen'])\n",
    "mean_tumor = drug_groups['Tumor Volume (mm3)'].mean()\n",
    "median_tumor = drug_groups['Tumor Volume (mm3)'].median()\n",
    "variance_tumor = drug_groups['Tumor Volume (mm3)'].var()\n",
    "std_dev_tumor = drug_groups['Tumor Volume (mm3)'].std()\n",
    "sem_tumor = drug_groups['Tumor Volume (mm3)'].sem()\n",
    "drug_data = {'Mean':mean_tumor,\n",
    "            'Median':median_tumor,\n",
    "            'Variance':variance_tumor,\n",
    "            'StDev':std_dev_tumor,\n",
    "            'SEM':sem_tumor}\n",
    "drug_stats = pd.DataFrame(drug_data)\n",
    "drug_stats"
   ]
  },
  {
   "cell_type": "markdown",
   "metadata": {},
   "source": [
    "## Bar plots"
   ]
  },
  {
   "cell_type": "code",
   "execution_count": 25,
   "metadata": {},
   "outputs": [
    {
     "data": {
      "text/plain": [
       "<matplotlib.axes._subplots.AxesSubplot at 0x1e25ab79cf8>"
      ]
     },
     "execution_count": 25,
     "metadata": {},
     "output_type": "execute_result"
    },
    {
     "data": {
      "image/png": "[encoded data removed]",
      "text/plain": [
       "<Figure size 432x288 with 1 Axes>"
      ]
     },
     "metadata": {
      "needs_background": "light"
     },
     "output_type": "display_data"
    }
   ],
   "source": [
    "# Generate a bar plot showing number of data points for each treatment regimen using pandas\n",
    "\n",
    "drug_data_count = drug_groups['Mouse ID'].count()\n",
    "plt.xlabel('Drug Names')\n",
    "plt.ylabel('Data Points')\n",
    "plt.title('Data Points Per Each Treatment Regimen')\n",
    "drug_data_count.plot.bar()"
   ]
  },
  {
   "cell_type": "code",
   "execution_count": 26,
   "metadata": {},
   "outputs": [
    {
     "data": {
      "image/png": "[encoded data removed]",
      "text/plain": [
       "<Figure size 432x288 with 1 Axes>"
      ]
     },
     "metadata": {
      "needs_background": "light"
     },
     "output_type": "display_data"
    }
   ],
   "source": [
    "# Generate a bar plot showing number of data points for each treatment regimen using pyplot\n",
    "# Getting the names and sorting them alphabetially; a crude workaround, admittedly, but it works\n",
    "drug_names = mouse_data['Drug Regimen'].sort_values(ascending = True).unique()\n",
    "\n",
    "# Using the drug_names and the previous drug_data_count to create a new dataframe\n",
    "drug_data_df = pd.DataFrame({'Drug Name':drug_names,'Drug Count':drug_data_count})\n",
    "\n",
    "# Generating the bar chart off of the new dataframe\n",
    "plt.bar(drug_data_df['Drug Name'], drug_data_df['Drug Count'], width = .5)\n",
    "plt.xticks(rotation = 90)\n",
    "plt.xlabel('Drug Names')\n",
    "plt.ylabel('Data Points')\n",
    "plt.title('Data Points Per Each Treatment Regimen')\n",
    "plt.show()"
   ]
  },
  {
   "cell_type": "markdown",
   "metadata": {},
   "source": [
    "## Pie plots"
   ]
  },
  {
   "cell_type": "code",
   "execution_count": 27,
   "metadata": {},
   "outputs": [
    {
     "data": {
      "text/plain": [
       "<matplotlib.axes._subplots.AxesSubplot at 0x1e25ac33d68>"
      ]
     },
     "execution_count": 27,
     "metadata": {},
     "output_type": "execute_result"
    },
    {
     "data": {
      "image/png": "[encoded data removed]",
      "text/plain": [
       "<Figure size 432x288 with 1 Axes>"
      ]
     },
     "metadata": {},
     "output_type": "display_data"
    }
   ],
   "source": [
    "# Generate a pie plot showing the distribution of female versus male mice using pandas\n",
    "# Getting a list of unique mice in order to accurately calculate how many males vs. females\n",
    "unique_mice = mouse_data.drop_duplicates(subset = 'Mouse ID')\n",
    "\n",
    "# Counting by 'Sex' to get the information to put into the pie chart\n",
    "mice_gender = unique_mice['Sex'].value_counts()\n",
    "\n",
    "# Plotting the pie chart with pandas, including % and adding a shadow for flair\n",
    "mice_gender.plot.pie(autopct = '%1.1f%%', shadow = True, title = 'Distribution by Gender')"
   ]
  },
  {
   "cell_type": "code",
   "execution_count": 28,
   "metadata": {},
   "outputs": [
    {
     "data": {
      "image/png": "[encoded data removed]",
      "text/plain": [
       "<Figure size 432x288 with 1 Axes>"
      ]
     },
     "metadata": {},
     "output_type": "display_data"
    }
   ],
   "source": [
    "# Generate a pie plot showing the distribution of female versus male mice using pyplot\n",
    "labels = ['Male', 'Female']\n",
    "plt.pie(mice_gender, labels = labels, autopct = '%1.1f%%', shadow = True)\n",
    "plt.title('Distribution by Gender')\n",
    "plt.ylabel('Sex')\n",
    "plt.show()"
   ]
  },
  {
   "cell_type": "markdown",
   "metadata": {},
   "source": [
    "## Quartiles, outliers and boxplots"
   ]
  },
  {
   "cell_type": "code",
   "execution_count": 48,
   "metadata": {},
   "outputs": [],
   "source": [
    "# Calculate the final tumor volume of each mouse across four of the most promising treatment regimens. \n",
    "# Calculate the IQR and quantitatively determine if there are any potential outliers. \n",
    "# Drugs: Capomulin, Ramicane, Infubinol, and Ceftamin\n",
    "\n",
    "data_capomulin = pd.DataFrame(mouse_data.loc[mouse_data['Drug Regimen'] == 'Capomulin'])\n",
    "data_capomulin_sorted = data_capomulin.sort_values(by = 'Timepoint', ascending = True)\n",
    "data_capomulin_grouped = data_capomulin_sorted.groupby(['Mouse ID'])\n",
    "capomulin_tumor_raw = data_capomulin_grouped['Tumor Volume (mm3)'].last()\n",
    "capomulin_tumor_list = []\n",
    "for tumor in capomulin_tumor_raw:\n",
    "    capomulin_tumor_list.append(tumor)\n",
    "capomulin_tumor_sorted = pd.Series(sorted(capomulin_tumor_list))\n",
    "capo_quartiles = capomulin_tumor_sorted.quantile([.25, .5, .75])\n",
    "capo_lowerq = capo_quartiles[0.25]\n",
    "capo_upperq = capo_quartiles[0.75]\n",
    "capo_iqr = capo_upperq-capo_lowerq\n",
    "capo_lower_bound = capo_lowerq - (1.5*capo_iqr)\n",
    "capo_upper_bound = capo_upperq + (1.5*capo_iqr)\n",
    "\n",
    "data_ramicane = pd.DataFrame(mouse_data.loc[mouse_data['Drug Regimen'] == 'Ramicane'])\n",
    "data_ramicane_sorted = data_ramicane.sort_values(by = 'Timepoint', ascending = True)\n",
    "data_ramicane_grouped = data_ramicane_sorted.groupby(['Mouse ID'])\n",
    "ramicane_tumor_raw = data_ramicane_grouped['Tumor Volume (mm3)'].last()\n",
    "ramicane_tumor_list = []\n",
    "for tumor in ramicane_tumor_raw:\n",
    "    ramicane_tumor_list.append(tumor)\n",
    "ramicane_tumor_sorted = pd.Series(sorted(ramicane_tumor_list))\n",
    "rami_quartiles = ramicane_tumor_sorted.quantile([.25, .5, .75])\n",
    "rami_lowerq = rami_quartiles[0.25]\n",
    "rami_upperq = rami_quartiles[0.75]\n",
    "rami_iqr = rami_upperq-rami_lowerq\n",
    "rami_lower_bound = rami_lowerq - (1.5*rami_iqr)\n",
    "rami_upper_bound = rami_upperq + (1.5*rami_iqr)\n",
    "\n",
    "data_infubinol = pd.DataFrame(mouse_data.loc[mouse_data['Drug Regimen'] == 'Infubinol'])\n",
    "data_infubinol_sorted = data_infubinol.sort_values(by = 'Timepoint', ascending = True)\n",
    "data_infubinol_grouped = data_infubinol_sorted.groupby(['Mouse ID'])\n",
    "infubinol_tumor_raw = data_infubinol_grouped['Tumor Volume (mm3)'].last()\n",
    "infubinol_tumor_list = []\n",
    "for tumor in infubinol_tumor_raw:\n",
    "    infubinol_tumor_list.append(tumor)\n",
    "infubinol_tumor_sorted = pd.Series(sorted(infubinol_tumor_list))\n",
    "infu_quartiles = infubinol_tumor_sorted.quantile([.25, .5, .75])\n",
    "infu_lowerq = infu_quartiles[0.25]\n",
    "infu_upperq = infu_quartiles[0.75]\n",
    "infu_iqr = infu_upperq-infu_lowerq\n",
    "infu_lower_bound = infu_lowerq - (1.5*infu_iqr)\n",
    "infu_upper_bound = infu_upperq + (1.5*infu_iqr)\n",
    "\n",
    "data_ceftamin = pd.DataFrame(mouse_data.loc[mouse_data['Drug Regimen'] == 'Ceftamin'])\n",
    "data_ceftamin_sorted = data_ceftamin.sort_values(by = 'Timepoint', ascending = True)\n",
    "data_ceftamin_grouped = data_ceftamin_sorted.groupby(['Mouse ID'])\n",
    "ceftamin_tumor_raw = data_ceftamin_grouped['Tumor Volume (mm3)'].last()\n",
    "ceftamin_tumor_list = []\n",
    "for tumor in ceftamin_tumor_raw:\n",
    "    ceftamin_tumor_list.append(tumor)\n",
    "ceftamin_tumor_sorted = pd.Series(sorted(ceftamin_tumor_list))\n",
    "ceft_quartiles = ceftamin_tumor_sorted.quantile([.25, .5, .75])\n",
    "ceft_lowerq = ceft_quartiles[0.25]\n",
    "ceft_upperq = ceft_quartiles[0.75]\n",
    "ceft_iqr = ceft_upperq-ceft_lowerq\n",
    "ceft_lower_bound = ceft_lowerq - (1.5*ceft_iqr)\n",
    "ceft_upper_bound = ceft_upperq + (1.5*ceft_iqr)"
   ]
  },
  {
   "cell_type": "code",
   "execution_count": 51,
   "metadata": {},
   "outputs": [
    {
     "data": {
      "image/png": "[encoded data removed]",
      "text/plain": [
       "<Figure size 432x288 with 1 Axes>"
      ]
     },
     "metadata": {
      "needs_background": "light"
     },
     "output_type": "display_data"
    }
   ],
   "source": [
    "# Generate a box plot of the final tumor volume of each mouse across four regimens of interest\n",
    "plt.boxplot([capomulin_tumor_sorted, ramicane_tumor_sorted, infubinol_tumor_sorted, ceftamin_tumor_sorted], labels = ['Capomulin', 'Ramicane', 'Infubuinol', 'Ceftamin'])\n",
    "plt.title('Final Tumor Volume: Capomulin, Ramicane, Infubinol, and Ceftamin')\n",
    "plt.ylabel('Tumor Volume (mm3)')\n",
    "plt.show()\n"
   ]
  },
  {
   "cell_type": "markdown",
   "metadata": {},
   "source": [
    "## Line and scatter plots"
   ]
  },
  {
   "cell_type": "code",
   "execution_count": 31,
   "metadata": {},
   "outputs": [
    {
     "data": {
      "image/png": "[encoded data removed]",
      "text/plain": [
       "<Figure size 432x288 with 1 Axes>"
      ]
     },
     "metadata": {
      "needs_background": "light"
     },
     "output_type": "display_data"
    }
   ],
   "source": [
    "# Generate a line plot of time point versus tumor volume for a mouse treated with Capomulin\n",
    "# Grabbed specimen s185 from the list of mice on the Capomulin regimen\n",
    "\n",
    "# Creating a dataframe specifically for speciment s185\n",
    "data_s185 = pd.DataFrame(mouse_data.loc[mouse_data['Mouse ID'] == 's185'])\n",
    "\n",
    "# Plotting the line chart for timepoint vs. tumor volume, with appropriate labels\n",
    "plt.plot(data_s185['Timepoint'], data_s185['Tumor Volume (mm3)'])\n",
    "plt.title('Timepoint vs. Tumor Volume: Specimen s185')\n",
    "plt.xlabel('Timepoint')\n",
    "plt.ylabel('Tumor Volume (mm3)')\n",
    "plt.show()"
   ]
  },
  {
   "cell_type": "code",
   "execution_count": 32,
   "metadata": {},
   "outputs": [
    {
     "data": {
      "image/png": "[encoded data removed]",
      "text/plain": [
       "<Figure size 432x288 with 1 Axes>"
      ]
     },
     "metadata": {
      "needs_background": "light"
     },
     "output_type": "display_data"
    }
   ],
   "source": [
    "# Generate a scatter plot of mouse weight versus average tumor volume for the Capomulin regimen\n",
    "capomulin_df = pd.DataFrame(mouse_data.loc[mouse_data['Drug Regimen'] == 'Capomulin'])\n",
    "capomulin_group = capomulin_df.groupby(['Weight (g)'])\n",
    "capomulin_weight = np.sort(capomulin_df['Weight (g)'].unique().astype(float))\n",
    "capomulin_tumor_vol = capomulin_group['Tumor Volume (mm3)'].mean()\n",
    "\n",
    "plt.scatter(capomulin_weight, capomulin_tumor_vol)\n",
    "plt.xlabel('Weight (g)')\n",
    "plt.ylabel('Tumor Volume (mm3)')\n",
    "plt.title('Mouse Weight vs. Average Tumor Volume: Capomulin Regimen')\n",
    "plt.show()"
   ]
  },
  {
   "cell_type": "code",
   "execution_count": 35,
   "metadata": {},
   "outputs": [
    {
     "name": "stdout",
     "output_type": "stream",
     "text": [
      "The r-squared is: 0.950524396185527\n",
      "The correlation between mouse weight and average tumor volume for the Capomulin treatment regimen is: 0.95\n"
     ]
    }
   ],
   "source": [
    "# Calculate the correlation coefficient and linear regression model for mouse weight and average tumor volume for the Capomulin regimen\n",
    "# Running linear regression on the capomulin_weight and capomulin_tumor_vol\n",
    "slope, intercept, r_value, p_value, std_err = st.linregress(capomulin_weight, capomulin_tumor_vol)\n",
    "\n",
    "# Printing the R-Squared value\n",
    "print(\"The r-squared is: \" + str(r_value))\n",
    "\n",
    "# Calculating the correlation coefficient on the capomulin_weight and capomulin_tumor_vol\n",
    "correlation = st.pearsonr(capomulin_weight, capomulin_tumor_vol)\n",
    "\n",
    "# Printing the correlation value\n",
    "print(\"The correlation between mouse weight and average tumor volume for the Capomulin treatment regimen is: \" + str(round(correlation[0],2)))\n",
    "\n",
    "# Side note: the calculations look incorrect to me and would benefit from a thorough examination"
   ]
  },
  {
   "cell_type": "code",
   "execution_count": null,
   "metadata": {},
   "outputs": [],
   "source": []
  }
 ],
 "metadata": {
  "anaconda-cloud": {},
  "kernelspec": {
   "display_name": "Python 3",
   "language": "python",
   "name": "python3"
  },
  "language_info": {
   "codemirror_mode": {
    "name": "ipython",
    "version": 3
   },
   "file_extension": ".py",
   "mimetype": "text/x-python",
   "name": "python",
   "nbconvert_exporter": "python",
   "pygments_lexer": "ipython3",
   "version": "3.6.9"
  }
 },
 "nbformat": 4,
 "nbformat_minor": 2
}
